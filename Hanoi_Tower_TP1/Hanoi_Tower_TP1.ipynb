{
 "cells": [
  {
   "cell_type": "markdown",
   "id": "e88dbc00-4e9a-42a6-8981-bfbea26751e5",
   "metadata": {},
   "source": [
    "Integrantes:\n",
    "\n",
    "Castillo Ilabaca, Sebastian\n",
    "Corti, Gastón\n",
    "\n",
    "Enunciado:\n",
    "\n",
    "1 ¿Cuáles son los PEAS de este problema? (Performance, Environment, Actuators, Sensors)\n",
    "\n",
    "Performance // Numero de movimientos realizados para llegar al estado final, tiempo de ejecucion de codigo para llegar al estado final, uso de memoria.\n",
    "Enviroment // Entorno de desarrollo\n",
    "Actuators // El codigo que identifica las posiciones inicial y final y resuelve la cantidad de movimientos necesarios para resolver el problema.\n",
    "Sensors // \n",
    "\n",
    "2 ¿Cuáles son las propiedades del entorno de trabajo?\n",
    "\n",
    "Totalmente observable vs parcialmente observable //\n",
    "Determinista vs estocastico //\n",
    "Episodico vs secuancial //\n",
    "Discreto vs continuo //\n",
    "Agente individual vs multiagente (competitivo o cooperativo) //\n",
    "\n",
    "3 En el contexto de este problema, establezca cuáles son los: estado, espacio de estados, árbol de búsqueda, nodo de búsqueda, objetivo, acción y frontera.\n",
    "\n",
    "4 Implemente algún método de búsqueda. Puedes elegir cualquiera menos búsqueda en anchura primero (el desarrollado en clase). Sos libre de elegir cualquiera de los vistos en clases, o inclusive buscar nuevos.\n",
    "\n",
    "5 ¿Qué complejidad en tiempo y memoria teórica tiene el algoritmo elegido? \n",
    "\n",
    "6 A nivel implementación, ¿qué tiempo y memoria ocupa el algoritmo? (Se recomienda correr 10 veces y calcular promedio y desvío estándar de las métricas).\n",
    "\n",
    "7 Si la solución óptima es 2k -1 movimientos con k igual al número de discos. Qué tan lejos está la solución del algoritmo implementado de esta solución óptima (se recomienda correr al menos 10 veces y usar el promedio de trayecto usado)."
   ]
  },
  {
   "cell_type": "markdown",
   "id": "3f406264-866e-438f-a6f8-5e6113e214bd",
   "metadata": {},
   "source": [
    "IMPLEMENTACIÓN DE METODO DE BUSQUEDA EN PROFUNDIDAD (COLA LIFO)"
   ]
  },
  {
   "cell_type": "code",
   "execution_count": 1,
   "id": "db19fe39-e47a-4896-8594-7378b057fac8",
   "metadata": {},
   "outputs": [],
   "source": [
    "import sys\n",
    "# Add the path to the module\n",
    "sys.path.append(r'C:\\Users\\sebas\\Hanoi_Tower_TP1\\intro_ia\\clase2\\hanoi_tower')\n",
    "\n",
    "# Import the desired components from the module\n",
    "from aima_libs.hanoi_states import StatesHanoi\n",
    "from aima_libs.hanoi_states import ActionHanoi\n",
    "from aima_libs.hanoi_states import ProblemHanoi\n",
    "from aima_libs.tree_hanoi import NodeHanoi"
   ]
  },
  {
   "cell_type": "code",
   "execution_count": 2,
   "id": "43bb0049-896a-4225-b08b-fdd9b738a8bc",
   "metadata": {},
   "outputs": [],
   "source": [
    "def depth_first_search(number_disks=5):\n",
    "    # Defining the problem\n",
    "    list_disks = [i for i in range(number_disks, 0, -1)]\n",
    "    initial_state = StatesHanoi(list_disks, [], [], max_disks=number_disks)\n",
    "    goal_state = StatesHanoi([], [], list_disks, max_disks=number_disks)\n",
    "    problem = ProblemHanoi(initial=initial_state, goal=goal_state)\n",
    "\n",
    "    # Defining the root\n",
    "    root = NodeHanoi(state=initial_state)\n",
    "    \n",
    "    # Defining the LIFO queue (frontier)\n",
    "    frontier = [NodeHanoi(problem.initial)]\n",
    "\n",
    "    # Defining the set of visited states\n",
    "    explored = set()\n",
    "\n",
    "    node_explored = 0\n",
    "\n",
    "    while len(frontier) != 0:\n",
    "        node = frontier.pop()\n",
    "        node_explored += 1\n",
    "\n",
    "        # Adding the explored node to the set\n",
    "        explored.add(node.state)\n",
    "\n",
    "        # Checking if the goal has been reached\n",
    "        if problem.goal_test(node.state):\n",
    "            metrics = {\n",
    "                \"solution_found\": True,\n",
    "                \"nodes_explored\": node_explored,\n",
    "                \"states_visited\": len(explored),\n",
    "                \"nodes_in_frontier\": len(frontier),\n",
    "                \"max_depth\": node.depth,\n",
    "                \"cost_total\": node.state.accumulated_cost,  # Assuming this exists\n",
    "            }\n",
    "            return node, metrics\n",
    "\n",
    "        for next_node in node.expand(problem):\n",
    "            if next_node.state not in explored and next_node not in frontier:\n",
    "                frontier.append(next_node)\n",
    "\n",
    "    # Metrics for unsuccessful search\n",
    "    metrics = {\n",
    "        \"solution_found\": False,\n",
    "        \"nodes_explored\": node_explored,\n",
    "        \"states_visited\": len(explored),\n",
    "        \"nodes_in_frontier\": len(frontier),\n",
    "        \"max_depth\": node.depth if len(frontier) > 0 else 0,\n",
    "        \"cost_total\": None,\n",
    "    }\n",
    "    return None, metrics\n"
   ]
  },
  {
   "cell_type": "code",
   "execution_count": 3,
   "id": "40a0b4b8-cb69-4ea5-a024-a08c1e293bf2",
   "metadata": {},
   "outputs": [],
   "source": [
    "solution, metrics = depth_first_search(number_disks=5)"
   ]
  },
  {
   "cell_type": "code",
   "execution_count": 4,
   "id": "39871e07-d2f4-4eae-9e60-5730ca03e852",
   "metadata": {},
   "outputs": [
    {
     "name": "stdout",
     "output_type": "stream",
     "text": [
      "solution_found: True\n",
      "nodes_explored: 82\n",
      "states_visited: 82\n",
      "nodes_in_frontier: 41\n",
      "max_depth: 81\n",
      "cost_total: 81.0\n"
     ]
    }
   ],
   "source": [
    "for key, value in metrics.items():\n",
    "    print(f\"{key}: {value}\")"
   ]
  },
  {
   "cell_type": "code",
   "execution_count": 5,
   "id": "65918abb-1a05-4d9e-8845-435fd01214b9",
   "metadata": {},
   "outputs": [
    {
     "name": "stdout",
     "output_type": "stream",
     "text": [
      "<Node HanoiState: 5 4 3 2 1 |  | >\n",
      "<Node HanoiState: 5 4 3 2 |  | 1>\n",
      "<Node HanoiState: 5 4 3 | 2 | 1>\n",
      "<Node HanoiState: 5 4 3 | 2 1 | >\n",
      "<Node HanoiState: 5 4 | 2 1 | 3>\n",
      "<Node HanoiState: 5 4 | 2 | 3 1>\n",
      "<Node HanoiState: 5 4 2 |  | 3 1>\n",
      "<Node HanoiState: 5 4 2 | 1 | 3>\n",
      "<Node HanoiState: 5 4 | 1 | 3 2>\n",
      "<Node HanoiState: 5 4 |  | 3 2 1>\n",
      "<Node HanoiState: 5 | 4 | 3 2 1>\n",
      "<Node HanoiState: 5 | 4 1 | 3 2>\n",
      "<Node HanoiState: 5 2 | 4 1 | 3>\n",
      "<Node HanoiState: 5 2 | 4 | 3 1>\n",
      "<Node HanoiState: 5 | 4 2 | 3 1>\n",
      "<Node HanoiState: 5 | 4 2 1 | 3>\n",
      "<Node HanoiState: 5 3 | 4 2 1 | >\n",
      "<Node HanoiState: 5 3 | 4 2 | 1>\n",
      "<Node HanoiState: 5 3 2 | 4 | 1>\n",
      "<Node HanoiState: 5 3 2 | 4 1 | >\n",
      "<Node HanoiState: 5 3 | 4 1 | 2>\n",
      "<Node HanoiState: 5 3 | 4 | 2 1>\n",
      "<Node HanoiState: 5 | 4 3 | 2 1>\n",
      "<Node HanoiState: 5 | 4 3 1 | 2>\n",
      "<Node HanoiState: 5 2 | 4 3 1 | >\n",
      "<Node HanoiState: 5 2 | 4 3 | 1>\n",
      "<Node HanoiState: 5 | 4 3 2 | 1>\n",
      "<Node HanoiState: 5 | 4 3 2 1 | >\n",
      "<Node HanoiState:  | 4 3 2 1 | 5>\n",
      "<Node HanoiState:  | 4 3 2 | 5 1>\n",
      "<Node HanoiState: 2 | 4 3 | 5 1>\n",
      "<Node HanoiState: 2 | 4 3 1 | 5>\n",
      "<Node HanoiState:  | 4 3 1 | 5 2>\n",
      "<Node HanoiState:  | 4 3 | 5 2 1>\n",
      "<Node HanoiState: 3 | 4 | 5 2 1>\n",
      "<Node HanoiState: 3 | 4 1 | 5 2>\n",
      "<Node HanoiState: 3 2 | 4 1 | 5>\n",
      "<Node HanoiState: 3 2 | 4 | 5 1>\n",
      "<Node HanoiState: 3 | 4 2 | 5 1>\n",
      "<Node HanoiState: 3 | 4 2 1 | 5>\n",
      "<Node HanoiState:  | 4 2 1 | 5 3>\n",
      "<Node HanoiState:  | 4 2 | 5 3 1>\n",
      "<Node HanoiState: 2 | 4 | 5 3 1>\n",
      "<Node HanoiState: 2 | 4 1 | 5 3>\n",
      "<Node HanoiState:  | 4 1 | 5 3 2>\n",
      "<Node HanoiState:  | 4 | 5 3 2 1>\n",
      "<Node HanoiState: 4 |  | 5 3 2 1>\n",
      "<Node HanoiState: 4 | 1 | 5 3 2>\n",
      "<Node HanoiState: 4 2 | 1 | 5 3>\n",
      "<Node HanoiState: 4 2 |  | 5 3 1>\n",
      "<Node HanoiState: 4 | 2 | 5 3 1>\n",
      "<Node HanoiState: 4 | 2 1 | 5 3>\n",
      "<Node HanoiState: 4 3 | 2 1 | 5>\n",
      "<Node HanoiState: 4 3 | 2 | 5 1>\n",
      "<Node HanoiState: 4 3 2 |  | 5 1>\n",
      "<Node HanoiState: 4 3 2 | 1 | 5>\n",
      "<Node HanoiState: 4 3 | 1 | 5 2>\n",
      "<Node HanoiState: 4 3 |  | 5 2 1>\n",
      "<Node HanoiState: 4 | 3 | 5 2 1>\n",
      "<Node HanoiState: 4 | 3 1 | 5 2>\n",
      "<Node HanoiState: 4 2 | 3 1 | 5>\n",
      "<Node HanoiState: 4 2 | 3 | 5 1>\n",
      "<Node HanoiState: 4 | 3 2 | 5 1>\n",
      "<Node HanoiState: 4 | 3 2 1 | 5>\n",
      "<Node HanoiState:  | 3 2 1 | 5 4>\n",
      "<Node HanoiState:  | 3 2 | 5 4 1>\n",
      "<Node HanoiState: 2 | 3 | 5 4 1>\n",
      "<Node HanoiState: 2 | 3 1 | 5 4>\n",
      "<Node HanoiState:  | 3 1 | 5 4 2>\n",
      "<Node HanoiState:  | 3 | 5 4 2 1>\n",
      "<Node HanoiState: 3 |  | 5 4 2 1>\n",
      "<Node HanoiState: 3 | 1 | 5 4 2>\n",
      "<Node HanoiState: 3 2 | 1 | 5 4>\n",
      "<Node HanoiState: 3 2 |  | 5 4 1>\n",
      "<Node HanoiState: 3 | 2 | 5 4 1>\n",
      "<Node HanoiState: 3 | 2 1 | 5 4>\n",
      "<Node HanoiState:  | 2 1 | 5 4 3>\n",
      "<Node HanoiState:  | 2 | 5 4 3 1>\n",
      "<Node HanoiState: 2 |  | 5 4 3 1>\n",
      "<Node HanoiState: 2 | 1 | 5 4 3>\n",
      "<Node HanoiState:  | 1 | 5 4 3 2>\n",
      "<Node HanoiState:  |  | 5 4 3 2 1>\n"
     ]
    }
   ],
   "source": [
    "for nodos in solution.path():\n",
    "    print(nodos)"
   ]
  },
  {
   "cell_type": "code",
   "execution_count": 6,
   "id": "3ebfe8e0-0987-4f2b-a4ff-4de9079f932d",
   "metadata": {},
   "outputs": [
    {
     "name": "stdout",
     "output_type": "stream",
     "text": [
      "Move disk 1 from 1 to 3\n",
      "Move disk 2 from 1 to 2\n",
      "Move disk 1 from 3 to 2\n",
      "Move disk 3 from 1 to 3\n",
      "Move disk 1 from 2 to 3\n",
      "Move disk 2 from 2 to 1\n",
      "Move disk 1 from 3 to 2\n",
      "Move disk 2 from 1 to 3\n",
      "Move disk 1 from 2 to 3\n",
      "Move disk 4 from 1 to 2\n",
      "Move disk 1 from 3 to 2\n",
      "Move disk 2 from 3 to 1\n",
      "Move disk 1 from 2 to 3\n",
      "Move disk 2 from 1 to 2\n",
      "Move disk 1 from 3 to 2\n",
      "Move disk 3 from 3 to 1\n",
      "Move disk 1 from 2 to 3\n",
      "Move disk 2 from 2 to 1\n",
      "Move disk 1 from 3 to 2\n",
      "Move disk 2 from 1 to 3\n",
      "Move disk 1 from 2 to 3\n",
      "Move disk 3 from 1 to 2\n",
      "Move disk 1 from 3 to 2\n",
      "Move disk 2 from 3 to 1\n",
      "Move disk 1 from 2 to 3\n",
      "Move disk 2 from 1 to 2\n",
      "Move disk 1 from 3 to 2\n",
      "Move disk 5 from 1 to 3\n",
      "Move disk 1 from 2 to 3\n",
      "Move disk 2 from 2 to 1\n",
      "Move disk 1 from 3 to 2\n",
      "Move disk 2 from 1 to 3\n",
      "Move disk 1 from 2 to 3\n",
      "Move disk 3 from 2 to 1\n",
      "Move disk 1 from 3 to 2\n",
      "Move disk 2 from 3 to 1\n",
      "Move disk 1 from 2 to 3\n",
      "Move disk 2 from 1 to 2\n",
      "Move disk 1 from 3 to 2\n",
      "Move disk 3 from 1 to 3\n",
      "Move disk 1 from 2 to 3\n",
      "Move disk 2 from 2 to 1\n",
      "Move disk 1 from 3 to 2\n",
      "Move disk 2 from 1 to 3\n",
      "Move disk 1 from 2 to 3\n",
      "Move disk 4 from 2 to 1\n",
      "Move disk 1 from 3 to 2\n",
      "Move disk 2 from 3 to 1\n",
      "Move disk 1 from 2 to 3\n",
      "Move disk 2 from 1 to 2\n",
      "Move disk 1 from 3 to 2\n",
      "Move disk 3 from 3 to 1\n",
      "Move disk 1 from 2 to 3\n",
      "Move disk 2 from 2 to 1\n",
      "Move disk 1 from 3 to 2\n",
      "Move disk 2 from 1 to 3\n",
      "Move disk 1 from 2 to 3\n",
      "Move disk 3 from 1 to 2\n",
      "Move disk 1 from 3 to 2\n",
      "Move disk 2 from 3 to 1\n",
      "Move disk 1 from 2 to 3\n",
      "Move disk 2 from 1 to 2\n",
      "Move disk 1 from 3 to 2\n",
      "Move disk 4 from 1 to 3\n",
      "Move disk 1 from 2 to 3\n",
      "Move disk 2 from 2 to 1\n",
      "Move disk 1 from 3 to 2\n",
      "Move disk 2 from 1 to 3\n",
      "Move disk 1 from 2 to 3\n",
      "Move disk 3 from 2 to 1\n",
      "Move disk 1 from 3 to 2\n",
      "Move disk 2 from 3 to 1\n",
      "Move disk 1 from 2 to 3\n",
      "Move disk 2 from 1 to 2\n",
      "Move disk 1 from 3 to 2\n",
      "Move disk 3 from 1 to 3\n",
      "Move disk 1 from 2 to 3\n",
      "Move disk 2 from 2 to 1\n",
      "Move disk 1 from 3 to 2\n",
      "Move disk 2 from 1 to 3\n",
      "Move disk 1 from 2 to 3\n"
     ]
    }
   ],
   "source": [
    "for act in solution.solution():\n",
    "    print(act)"
   ]
  },
  {
   "cell_type": "markdown",
   "id": "262f07cc-b5e7-44dc-b690-9a7a06ba8af2",
   "metadata": {},
   "source": [
    "Medicion de performance"
   ]
  },
  {
   "cell_type": "code",
   "execution_count": 7,
   "id": "3b9500e6-1ec4-453f-a27b-fc90048281d7",
   "metadata": {},
   "outputs": [
    {
     "name": "stdout",
     "output_type": "stream",
     "text": [
      "15.5 ms ± 2.74 ms per loop (mean ± std. dev. of 7 runs, 10 loops each)\n"
     ]
    }
   ],
   "source": [
    "%%timeit \n",
    "solution, metrics = depth_first_search(number_disks=5)"
   ]
  },
  {
   "cell_type": "code",
   "execution_count": 9,
   "id": "72d1b75f-a2de-43fb-8879-77e2dc605894",
   "metadata": {},
   "outputs": [
    {
     "name": "stdout",
     "output_type": "stream",
     "text": [
      "Pico de memoria ocupada: 0.17 [MB]\n"
     ]
    }
   ],
   "source": [
    "import tracemalloc\n",
    "\n",
    "tracemalloc.start()\n",
    "\n",
    "solution, metrics = depth_first_search(number_disks=5)\n",
    "\n",
    "# Para medir memoria consumida usamos el pico de memoria\n",
    "_, memory_peak = tracemalloc.get_traced_memory()\n",
    "memory_peak /= 1024*1024\n",
    "tracemalloc.stop()\n",
    "\n",
    "print(f\"Pico de memoria ocupada: {round(memory_peak, 2)} [MB]\", )"
   ]
  },
  {
   "cell_type": "code",
   "execution_count": 10,
   "id": "ae5eb2d4-16f2-4dac-bfb3-3501bd119eea",
   "metadata": {
    "collapsed": true,
    "jupyter": {
     "outputs_hidden": true
    }
   },
   "outputs": [
    {
     "name": "stdout",
     "output_type": "stream",
     "text": [
      "optimal_solution: 31\n",
      "average_moves: 81.0\n",
      "std_dev_moves: 0.0\n",
      "difference_from_optimal: 50.0\n"
     ]
    }
   ],
   "source": [
    "import numpy as np  # Para calcular promedio y desviación estándar\n",
    "\n",
    "def compare_with_optimal(number_disks=5, runs=10):\n",
    "    optimal_solution = 2**number_disks - 1  # Fórmula para solución óptima\n",
    "    moves_used = []  # Lista para almacenar los movimientos usados\n",
    "\n",
    "    for _ in range(runs):\n",
    "        solution, metrics = depth_first_search(number_disks=number_disks)\n",
    "        if metrics[\"solution_found\"]:\n",
    "            moves_used.append(metrics[\"cost_total\"])  # Suponiendo que cost_total almacena movimientos totales\n",
    "    \n",
    "    # Calcular promedio y desviación estándar\n",
    "    avg_moves = np.mean(moves_used)\n",
    "    std_dev_moves = np.std(moves_used)\n",
    "    difference_from_optimal = avg_moves - optimal_solution  # Diferencia respecto a la solución óptima\n",
    "\n",
    "    results = {\n",
    "        \"optimal_solution\": optimal_solution,\n",
    "        \"average_moves\": avg_moves,\n",
    "        \"std_dev_moves\": std_dev_moves,\n",
    "        \"difference_from_optimal\": difference_from_optimal,\n",
    "    }\n",
    "\n",
    "    return results\n",
    "\n",
    "# Ejecutar la comparación\n",
    "results = compare_with_optimal(number_disks=5, runs=10)\n",
    "\n",
    "# Imprimir los resultados\n",
    "for metric, value in results.items():\n",
    "    print(f\"{metric}: {value}\")\n"
   ]
  },
  {
   "cell_type": "code",
   "execution_count": null,
   "id": "22cb0b0f-816f-4a39-8ed6-5191aadb0d1c",
   "metadata": {},
   "outputs": [],
   "source": []
  }
 ],
 "metadata": {
  "kernelspec": {
   "display_name": "Python 3 (ipykernel)",
   "language": "python",
   "name": "python3"
  },
  "language_info": {
   "codemirror_mode": {
    "name": "ipython",
    "version": 3
   },
   "file_extension": ".py",
   "mimetype": "text/x-python",
   "name": "python",
   "nbconvert_exporter": "python",
   "pygments_lexer": "ipython3",
   "version": "3.10.16"
  }
 },
 "nbformat": 4,
 "nbformat_minor": 5
}
